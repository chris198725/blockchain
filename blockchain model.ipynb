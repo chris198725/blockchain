{
 "cells": [
  {
   "cell_type": "code",
   "execution_count": 8,
   "metadata": {
    "collapsed": true
   },
   "outputs": [
    {
     "ename": "KeyError",
     "evalue": "'REDISCLOUD_URL'",
     "output_type": "error",
     "traceback": [
      "\u001B[0;31m---------------------------------------------------------------------------\u001B[0m",
      "\u001B[0;31mKeyError\u001B[0m                                  Traceback (most recent call last)",
      "Input \u001B[0;32mIn [8]\u001B[0m, in \u001B[0;36m<cell line: 1>\u001B[0;34m()\u001B[0m\n\u001B[0;32m----> 1\u001B[0m \u001B[38;5;28;01mfrom\u001B[39;00m \u001B[38;5;21;01mapp\u001B[39;00m\u001B[38;5;21;01m.\u001B[39;00m\u001B[38;5;21;01mmodels\u001B[39;00m \u001B[38;5;28;01mimport\u001B[39;00m Blockchain, Block, Transaction\n\u001B[1;32m      2\u001B[0m \u001B[38;5;28;01mimport\u001B[39;00m \u001B[38;5;21;01mjson\u001B[39;00m\n",
      "File \u001B[0;32m~/PycharmProjects/blockchain/app/models.py:14\u001B[0m, in \u001B[0;36m<module>\u001B[0;34m\u001B[0m\n\u001B[1;32m     10\u001B[0m \u001B[38;5;28;01mfrom\u001B[39;00m \u001B[38;5;21;01mapp\u001B[39;00m \u001B[38;5;28;01mimport\u001B[39;00m config\n\u001B[1;32m     11\u001B[0m \u001B[38;5;28;01mfrom\u001B[39;00m \u001B[38;5;21;01mapp\u001B[39;00m \u001B[38;5;28;01mimport\u001B[39;00m exceptions \u001B[38;5;28;01mas\u001B[39;00m block_chain_errors\n\u001B[0;32m---> 14\u001B[0m r \u001B[38;5;241m=\u001B[39m redis\u001B[38;5;241m.\u001B[39mRedis\u001B[38;5;241m.\u001B[39mfrom_url(url\u001B[38;5;241m=\u001B[39m\u001B[43mos\u001B[49m\u001B[38;5;241;43m.\u001B[39;49m\u001B[43menviron\u001B[49m\u001B[43m[\u001B[49m\u001B[38;5;124;43m'\u001B[39;49m\u001B[38;5;124;43mREDISCLOUD_URL\u001B[39;49m\u001B[38;5;124;43m'\u001B[39;49m\u001B[43m]\u001B[49m)\n\u001B[1;32m     17\u001B[0m \u001B[38;5;28;01mclass\u001B[39;00m \u001B[38;5;21;01mTransaction\u001B[39;00m(BaseModel):\n\u001B[1;32m     18\u001B[0m     timestamp: \u001B[38;5;28mstr\u001B[39m\n",
      "File \u001B[0;32m/Library/Frameworks/Python.framework/Versions/3.8/lib/python3.8/os.py:673\u001B[0m, in \u001B[0;36m_Environ.__getitem__\u001B[0;34m(self, key)\u001B[0m\n\u001B[1;32m    670\u001B[0m     value \u001B[38;5;241m=\u001B[39m \u001B[38;5;28mself\u001B[39m\u001B[38;5;241m.\u001B[39m_data[\u001B[38;5;28mself\u001B[39m\u001B[38;5;241m.\u001B[39mencodekey(key)]\n\u001B[1;32m    671\u001B[0m \u001B[38;5;28;01mexcept\u001B[39;00m \u001B[38;5;167;01mKeyError\u001B[39;00m:\n\u001B[1;32m    672\u001B[0m     \u001B[38;5;66;03m# raise KeyError with the original key value\u001B[39;00m\n\u001B[0;32m--> 673\u001B[0m     \u001B[38;5;28;01mraise\u001B[39;00m \u001B[38;5;167;01mKeyError\u001B[39;00m(key) \u001B[38;5;28;01mfrom\u001B[39;00m \u001B[38;5;28mNone\u001B[39m\n\u001B[1;32m    674\u001B[0m \u001B[38;5;28;01mreturn\u001B[39;00m \u001B[38;5;28mself\u001B[39m\u001B[38;5;241m.\u001B[39mdecodevalue(value)\n",
      "\u001B[0;31mKeyError\u001B[0m: 'REDISCLOUD_URL'"
     ]
    }
   ],
   "source": [
    "from app.models import Blockchain, Block, Transaction\n",
    "import json"
   ]
  },
  {
   "cell_type": "code",
   "execution_count": 13,
   "outputs": [],
   "source": [
    "test_bc = Blockchain(name='Test')"
   ],
   "metadata": {
    "collapsed": false,
    "pycharm": {
     "name": "#%%\n"
    }
   }
  },
  {
   "cell_type": "code",
   "execution_count": 14,
   "outputs": [],
   "source": [
    "test_bc.create_genesis_block()"
   ],
   "metadata": {
    "collapsed": false,
    "pycharm": {
     "name": "#%%\n"
    }
   }
  },
  {
   "cell_type": "code",
   "execution_count": 15,
   "outputs": [
    {
     "data": {
      "text/plain": "Blockchain(name='Test', difficulty=2, chain=[Block(index=0, timestamp='2022-07-24 16:06:32', hash='f859a6ddec629961cc3a0f657e4cba2a2b0ea73b5c1b95ee9d9f6616638da48a', previous_hash='0', transactions=[], nonce=0)], pending_transactions=[])"
     },
     "execution_count": 15,
     "metadata": {},
     "output_type": "execute_result"
    }
   ],
   "source": [
    "test_bc"
   ],
   "metadata": {
    "collapsed": false,
    "pycharm": {
     "name": "#%%\n"
    }
   }
  },
  {
   "cell_type": "code",
   "execution_count": 3,
   "outputs": [],
   "source": [
    "trans = [\n",
    "    Transaction(timestamp='2022-07-23 15:31:12', sender='chris', receiver='nicole', amount=5000),\n",
    "    Transaction(timestamp='2022-07-23 15:32:12', sender='chris', receiver='nicole', amount=5000),\n",
    "    Transaction(timestamp='2022-07-23 15:33:12', sender='nicole', receiver='chris', amount=1000),\n",
    "    Transaction(timestamp='2022-07-23 15:34:12', sender='nicole', receiver='john', amount=500),\n",
    "    Transaction(timestamp='2022-07-23 15:35:12', sender='chris', receiver='nicole', amount=5000),\n",
    "    Transaction(timestamp='2022-07-23 15:36:12', sender='john', receiver='chris', amount=2000)\n",
    "]"
   ],
   "metadata": {
    "collapsed": false,
    "pycharm": {
     "name": "#%%\n"
    }
   }
  },
  {
   "cell_type": "code",
   "execution_count": 4,
   "outputs": [],
   "source": [
    "block = Block(timestamp='2022-07-23 16:12:12', transactions=trans, index=1, previous_hash=\"0\")"
   ],
   "metadata": {
    "collapsed": false,
    "pycharm": {
     "name": "#%%\n"
    }
   }
  },
  {
   "cell_type": "code",
   "execution_count": 1,
   "outputs": [],
   "source": [
    "import os\n",
    "import redis"
   ],
   "metadata": {
    "collapsed": false,
    "pycharm": {
     "name": "#%%\n"
    }
   }
  },
  {
   "cell_type": "code",
   "execution_count": 2,
   "outputs": [],
   "source": [
    "r = redis.Redis.from_url(url='')"
   ],
   "metadata": {
    "collapsed": false,
    "pycharm": {
     "name": "#%%\n"
    }
   }
  },
  {
   "cell_type": "code",
   "execution_count": 5,
   "outputs": [],
   "source": [
    "stored_data = [b.decode('utf-8') for b in r.lrange('pending_transactions', 0, -1)]\n"
   ],
   "metadata": {
    "collapsed": false,
    "pycharm": {
     "name": "#%%\n"
    }
   }
  },
  {
   "cell_type": "code",
   "execution_count": 10,
   "outputs": [],
   "source": [
    "data = []\n",
    "for transaction_str in stored_data:\n",
    "    transaction_dict = eval(transaction_str)\n",
    "    data.append(transaction_dict)"
   ],
   "metadata": {
    "collapsed": false,
    "pycharm": {
     "name": "#%%\n"
    }
   }
  },
  {
   "cell_type": "code",
   "execution_count": 15,
   "outputs": [
    {
     "data": {
      "text/plain": "b'1'"
     },
     "execution_count": 15,
     "metadata": {},
     "output_type": "execute_result"
    }
   ],
   "source": [
    "r.get('last_block')"
   ],
   "metadata": {
    "collapsed": false,
    "pycharm": {
     "name": "#%%\n"
    }
   }
  },
  {
   "cell_type": "code",
   "execution_count": 14,
   "outputs": [
    {
     "data": {
      "text/plain": "True"
     },
     "execution_count": 14,
     "metadata": {},
     "output_type": "execute_result"
    }
   ],
   "source": [
    "r.set('last_block', 1)"
   ],
   "metadata": {
    "collapsed": false,
    "pycharm": {
     "name": "#%%\n"
    }
   }
  },
  {
   "cell_type": "code",
   "execution_count": 48,
   "outputs": [],
   "source": [
    "trans_dict = [b.decode('utf-8') for b in r.lrange('test', 0, -1)]"
   ],
   "metadata": {
    "collapsed": false,
    "pycharm": {
     "name": "#%%\n"
    }
   }
  },
  {
   "cell_type": "code",
   "execution_count": 16,
   "outputs": [],
   "source": [
    "index = eval(r.get('last_block').decode('utf-8'))"
   ],
   "metadata": {
    "collapsed": false,
    "pycharm": {
     "name": "#%%\n"
    }
   }
  },
  {
   "cell_type": "code",
   "execution_count": 17,
   "outputs": [
    {
     "data": {
      "text/plain": "1"
     },
     "execution_count": 17,
     "metadata": {},
     "output_type": "execute_result"
    }
   ],
   "source": [
    "index"
   ],
   "metadata": {
    "collapsed": false,
    "pycharm": {
     "name": "#%%\n"
    }
   }
  },
  {
   "cell_type": "code",
   "execution_count": 20,
   "outputs": [
    {
     "name": "stdout",
     "output_type": "stream",
     "text": [
      "0\n"
     ]
    }
   ],
   "source": [
    "for i in range(0, 1):\n",
    "    print(i)"
   ],
   "metadata": {
    "collapsed": false,
    "pycharm": {
     "name": "#%%\n"
    }
   }
  },
  {
   "cell_type": "code",
   "execution_count": 22,
   "outputs": [
    {
     "data": {
      "text/plain": "{'index': 1,\n 'timestamp': '2022-07-24 16:43:01',\n 'hash': '00c6dacda408a25151f7a6b7cb7ad109f631280e0dc45ae196a8ef5514490ef3',\n 'previous_hash': '9f2d394e21f6a793bba082cc4fdb37c03dc1ab7ffa80362f23d9da51710de649',\n 'transactions': [{'timestamp': '2022-07-23 15:12:13',\n   'sender': 'chris',\n   'receiver': 'nicole',\n   'amount': 5000.0},\n  {'timestamp': '2022-07-23 15:13:13',\n   'sender': 'chris',\n   'receiver': 'nicole',\n   'amount': 2000.0},\n  {'timestamp': '2022-07-23 15:14:13',\n   'sender': 'nicole',\n   'receiver': 'chris',\n   'amount': 1500.0}],\n 'nonce': 55}"
     },
     "execution_count": 22,
     "metadata": {},
     "output_type": "execute_result"
    }
   ],
   "source": [
    "data = eval(r.get(1).decode('utf-8'))\n",
    "data"
   ],
   "metadata": {
    "collapsed": false,
    "pycharm": {
     "name": "#%%\n"
    }
   }
  },
  {
   "cell_type": "code",
   "execution_count": 85,
   "outputs": [
    {
     "data": {
      "text/plain": "3"
     },
     "execution_count": 85,
     "metadata": {},
     "output_type": "execute_result"
    }
   ],
   "source": [
    "r.hset('test', mapping={\"a\": \"1\", \"b\": \"2\", \"c\": \"3\"})"
   ],
   "metadata": {
    "collapsed": false,
    "pycharm": {
     "name": "#%%\n"
    }
   }
  },
  {
   "cell_type": "code",
   "execution_count": 71,
   "outputs": [
    {
     "data": {
      "text/plain": "Block(index=1, timestamp='2022-07-23 16:12:12', hash='c881ad50088ef574722e9078a40dd8c86dec3eb12a11942819266f513d64f117', previous_hash='0', transactions=[Transaction(timestamp='2022-07-23 15:31:12', sender='chris', receiver='nicole', amount=5000.0), Transaction(timestamp='2022-07-23 15:32:12', sender='chris', receiver='nicole', amount=5000.0), Transaction(timestamp='2022-07-23 15:33:12', sender='nicole', receiver='chris', amount=1000.0), Transaction(timestamp='2022-07-23 15:34:12', sender='nicole', receiver='john', amount=500.0), Transaction(timestamp='2022-07-23 15:35:12', sender='chris', receiver='nicole', amount=5000.0), Transaction(timestamp='2022-07-23 15:36:12', sender='john', receiver='chris', amount=2000.0)], nonce=0)"
     },
     "execution_count": 71,
     "metadata": {},
     "output_type": "execute_result"
    }
   ],
   "source": [
    "block"
   ],
   "metadata": {
    "collapsed": false,
    "pycharm": {
     "name": "#%%\n"
    }
   }
  },
  {
   "cell_type": "code",
   "execution_count": 75,
   "outputs": [],
   "source": [
    "data = r.get(1).decode('utf-8')"
   ],
   "metadata": {
    "collapsed": false,
    "pycharm": {
     "name": "#%%\n"
    }
   }
  },
  {
   "cell_type": "code",
   "execution_count": 92,
   "outputs": [
    {
     "data": {
      "text/plain": "1"
     },
     "execution_count": 92,
     "metadata": {},
     "output_type": "execute_result"
    }
   ],
   "source": [
    "r.delete('last_block')"
   ],
   "metadata": {
    "collapsed": false,
    "pycharm": {
     "name": "#%%\n"
    }
   }
  },
  {
   "cell_type": "code",
   "execution_count": 77,
   "outputs": [],
   "source": [
    "d = eval(data)"
   ],
   "metadata": {
    "collapsed": false,
    "pycharm": {
     "name": "#%%\n"
    }
   }
  },
  {
   "cell_type": "code",
   "execution_count": 79,
   "outputs": [
    {
     "data": {
      "text/plain": "[{'timestamp': '2022-07-23 15:31:12',\n  'sender': 'chris',\n  'receiver': 'nicole',\n  'amount': 5000.0},\n {'timestamp': '2022-07-23 15:32:12',\n  'sender': 'chris',\n  'receiver': 'nicole',\n  'amount': 5000.0},\n {'timestamp': '2022-07-23 15:33:12',\n  'sender': 'nicole',\n  'receiver': 'chris',\n  'amount': 1000.0},\n {'timestamp': '2022-07-23 15:34:12',\n  'sender': 'nicole',\n  'receiver': 'john',\n  'amount': 500.0},\n {'timestamp': '2022-07-23 15:35:12',\n  'sender': 'chris',\n  'receiver': 'nicole',\n  'amount': 5000.0},\n {'timestamp': '2022-07-23 15:36:12',\n  'sender': 'john',\n  'receiver': 'chris',\n  'amount': 2000.0}]"
     },
     "execution_count": 79,
     "metadata": {},
     "output_type": "execute_result"
    }
   ],
   "source": [
    "d['transactions']"
   ],
   "metadata": {
    "collapsed": false,
    "pycharm": {
     "name": "#%%\n"
    }
   }
  },
  {
   "cell_type": "code",
   "execution_count": 80,
   "outputs": [
    {
     "data": {
      "text/plain": "{'index': 1,\n 'timestamp': '2022-07-23 16:12:12',\n 'hash': 'c881ad50088ef574722e9078a40dd8c86dec3eb12a11942819266f513d64f117',\n 'previous_hash': '0',\n 'transactions': [{'timestamp': '2022-07-23 15:31:12',\n   'sender': 'chris',\n   'receiver': 'nicole',\n   'amount': 5000.0},\n  {'timestamp': '2022-07-23 15:32:12',\n   'sender': 'chris',\n   'receiver': 'nicole',\n   'amount': 5000.0},\n  {'timestamp': '2022-07-23 15:33:12',\n   'sender': 'nicole',\n   'receiver': 'chris',\n   'amount': 1000.0},\n  {'timestamp': '2022-07-23 15:34:12',\n   'sender': 'nicole',\n   'receiver': 'john',\n   'amount': 500.0},\n  {'timestamp': '2022-07-23 15:35:12',\n   'sender': 'chris',\n   'receiver': 'nicole',\n   'amount': 5000.0},\n  {'timestamp': '2022-07-23 15:36:12',\n   'sender': 'john',\n   'receiver': 'chris',\n   'amount': 2000.0}],\n 'nonce': 0}"
     },
     "execution_count": 80,
     "metadata": {},
     "output_type": "execute_result"
    }
   ],
   "source": [
    "d"
   ],
   "metadata": {
    "collapsed": false,
    "pycharm": {
     "name": "#%%\n"
    }
   }
  },
  {
   "cell_type": "code",
   "execution_count": null,
   "outputs": [],
   "source": [],
   "metadata": {
    "collapsed": false,
    "pycharm": {
     "name": "#%%\n"
    }
   }
  }
 ],
 "metadata": {
  "kernelspec": {
   "display_name": "Python 3",
   "language": "python",
   "name": "python3"
  },
  "language_info": {
   "codemirror_mode": {
    "name": "ipython",
    "version": 2
   },
   "file_extension": ".py",
   "mimetype": "text/x-python",
   "name": "python",
   "nbconvert_exporter": "python",
   "pygments_lexer": "ipython2",
   "version": "2.7.6"
  }
 },
 "nbformat": 4,
 "nbformat_minor": 0
}