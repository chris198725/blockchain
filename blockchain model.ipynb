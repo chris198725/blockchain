{
 "cells": [
  {
   "cell_type": "code",
   "execution_count": 1,
   "metadata": {
    "collapsed": true
   },
   "outputs": [],
   "source": [
    "from app.models import Blockchain, Block, Transaction"
   ]
  },
  {
   "cell_type": "code",
   "execution_count": 13,
   "outputs": [],
   "source": [
    "test_bc = Blockchain(name='Test')"
   ],
   "metadata": {
    "collapsed": false,
    "pycharm": {
     "name": "#%%\n"
    }
   }
  },
  {
   "cell_type": "code",
   "execution_count": 14,
   "outputs": [],
   "source": [
    "test_bc.create_genesis_block()"
   ],
   "metadata": {
    "collapsed": false,
    "pycharm": {
     "name": "#%%\n"
    }
   }
  },
  {
   "cell_type": "code",
   "execution_count": 15,
   "outputs": [
    {
     "data": {
      "text/plain": "Blockchain(name='Test', difficulty=2, chain=[Block(index=0, timestamp='2022-07-24 16:06:32', hash='f859a6ddec629961cc3a0f657e4cba2a2b0ea73b5c1b95ee9d9f6616638da48a', previous_hash='0', transactions=[], nonce=0)], pending_transactions=[])"
     },
     "execution_count": 15,
     "metadata": {},
     "output_type": "execute_result"
    }
   ],
   "source": [
    "test_bc"
   ],
   "metadata": {
    "collapsed": false,
    "pycharm": {
     "name": "#%%\n"
    }
   }
  },
  {
   "cell_type": "code",
   "execution_count": 3,
   "outputs": [],
   "source": [
    "trans = [\n",
    "    Transaction(timestamp='2022-07-23 15:31:12', sender='chris', receiver='nicole', amount=5000),\n",
    "    Transaction(timestamp='2022-07-23 15:32:12', sender='chris', receiver='nicole', amount=5000),\n",
    "    Transaction(timestamp='2022-07-23 15:33:12', sender='nicole', receiver='chris', amount=1000),\n",
    "    Transaction(timestamp='2022-07-23 15:34:12', sender='nicole', receiver='john', amount=500),\n",
    "    Transaction(timestamp='2022-07-23 15:35:12', sender='chris', receiver='nicole', amount=5000),\n",
    "    Transaction(timestamp='2022-07-23 15:36:12', sender='john', receiver='chris', amount=2000)\n",
    "]"
   ],
   "metadata": {
    "collapsed": false,
    "pycharm": {
     "name": "#%%\n"
    }
   }
  },
  {
   "cell_type": "code",
   "execution_count": 4,
   "outputs": [],
   "source": [
    "block = Block(timestamp='2022-07-23 16:12:12', transactions=trans, index=1, previous_hash=\"0\")"
   ],
   "metadata": {
    "collapsed": false,
    "pycharm": {
     "name": "#%%\n"
    }
   }
  },
  {
   "cell_type": "code",
   "execution_count": 7,
   "outputs": [
    {
     "data": {
      "text/plain": "Block(index=1, timestamp='2022-07-23 16:12:12', hash='c881ad50088ef574722e9078a40dd8c86dec3eb12a11942819266f513d64f117', previous_hash='0', transactions=[Transaction(timestamp='2022-07-23 15:31:12', sender='chris', receiver='nicole', amount=5000.0), Transaction(timestamp='2022-07-23 15:32:12', sender='chris', receiver='nicole', amount=5000.0), Transaction(timestamp='2022-07-23 15:33:12', sender='nicole', receiver='chris', amount=1000.0), Transaction(timestamp='2022-07-23 15:34:12', sender='nicole', receiver='john', amount=500.0), Transaction(timestamp='2022-07-23 15:35:12', sender='chris', receiver='nicole', amount=5000.0), Transaction(timestamp='2022-07-23 15:36:12', sender='john', receiver='chris', amount=2000.0)], nonce=0)"
     },
     "execution_count": 7,
     "metadata": {},
     "output_type": "execute_result"
    }
   ],
   "source": [
    "block"
   ],
   "metadata": {
    "collapsed": false,
    "pycharm": {
     "name": "#%%\n"
    }
   }
  },
  {
   "cell_type": "code",
   "execution_count": null,
   "outputs": [],
   "source": [],
   "metadata": {
    "collapsed": false,
    "pycharm": {
     "name": "#%%\n"
    }
   }
  }
 ],
 "metadata": {
  "kernelspec": {
   "display_name": "Python 3",
   "language": "python",
   "name": "python3"
  },
  "language_info": {
   "codemirror_mode": {
    "name": "ipython",
    "version": 2
   },
   "file_extension": ".py",
   "mimetype": "text/x-python",
   "name": "python",
   "nbconvert_exporter": "python",
   "pygments_lexer": "ipython2",
   "version": "2.7.6"
  }
 },
 "nbformat": 4,
 "nbformat_minor": 0
}