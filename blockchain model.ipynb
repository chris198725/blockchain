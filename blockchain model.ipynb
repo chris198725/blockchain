{
 "cells": [
  {
   "cell_type": "code",
   "execution_count": 50,
   "metadata": {
    "collapsed": true
   },
   "outputs": [],
   "source": [
    "from app.models import Blockchain, Block, Transaction\n",
    "import json"
   ]
  },
  {
   "cell_type": "code",
   "execution_count": 13,
   "outputs": [],
   "source": [
    "test_bc = Blockchain(name='Test')"
   ],
   "metadata": {
    "collapsed": false,
    "pycharm": {
     "name": "#%%\n"
    }
   }
  },
  {
   "cell_type": "code",
   "execution_count": 14,
   "outputs": [],
   "source": [
    "test_bc.create_genesis_block()"
   ],
   "metadata": {
    "collapsed": false,
    "pycharm": {
     "name": "#%%\n"
    }
   }
  },
  {
   "cell_type": "code",
   "execution_count": 15,
   "outputs": [
    {
     "data": {
      "text/plain": "Blockchain(name='Test', difficulty=2, chain=[Block(index=0, timestamp='2022-07-24 16:06:32', hash='f859a6ddec629961cc3a0f657e4cba2a2b0ea73b5c1b95ee9d9f6616638da48a', previous_hash='0', transactions=[], nonce=0)], pending_transactions=[])"
     },
     "execution_count": 15,
     "metadata": {},
     "output_type": "execute_result"
    }
   ],
   "source": [
    "test_bc"
   ],
   "metadata": {
    "collapsed": false,
    "pycharm": {
     "name": "#%%\n"
    }
   }
  },
  {
   "cell_type": "code",
   "execution_count": 3,
   "outputs": [],
   "source": [
    "trans = [\n",
    "    Transaction(timestamp='2022-07-23 15:31:12', sender='chris', receiver='nicole', amount=5000),\n",
    "    Transaction(timestamp='2022-07-23 15:32:12', sender='chris', receiver='nicole', amount=5000),\n",
    "    Transaction(timestamp='2022-07-23 15:33:12', sender='nicole', receiver='chris', amount=1000),\n",
    "    Transaction(timestamp='2022-07-23 15:34:12', sender='nicole', receiver='john', amount=500),\n",
    "    Transaction(timestamp='2022-07-23 15:35:12', sender='chris', receiver='nicole', amount=5000),\n",
    "    Transaction(timestamp='2022-07-23 15:36:12', sender='john', receiver='chris', amount=2000)\n",
    "]"
   ],
   "metadata": {
    "collapsed": false,
    "pycharm": {
     "name": "#%%\n"
    }
   }
  },
  {
   "cell_type": "code",
   "execution_count": 4,
   "outputs": [],
   "source": [
    "block = Block(timestamp='2022-07-23 16:12:12', transactions=trans, index=1, previous_hash=\"0\")"
   ],
   "metadata": {
    "collapsed": false,
    "pycharm": {
     "name": "#%%\n"
    }
   }
  },
  {
   "cell_type": "code",
   "execution_count": 19,
   "outputs": [],
   "source": [
    "import os\n",
    "import redis"
   ],
   "metadata": {
    "collapsed": false,
    "pycharm": {
     "name": "#%%\n"
    }
   }
  },
  {
   "cell_type": "code",
   "execution_count": 25,
   "outputs": [],
   "source": [],
   "metadata": {
    "collapsed": false,
    "pycharm": {
     "name": "#%%\n"
    }
   }
  },
  {
   "cell_type": "code",
   "execution_count": 31,
   "outputs": [
    {
     "data": {
      "text/plain": "True"
     },
     "execution_count": 31,
     "metadata": {},
     "output_type": "execute_result"
    }
   ],
   "source": [
    "r.set('test', 'test')"
   ],
   "metadata": {
    "collapsed": false,
    "pycharm": {
     "name": "#%%\n"
    }
   }
  },
  {
   "cell_type": "code",
   "execution_count": 33,
   "outputs": [
    {
     "data": {
      "text/plain": "1"
     },
     "execution_count": 33,
     "metadata": {},
     "output_type": "execute_result"
    }
   ],
   "source": [
    "r.delete('test')"
   ],
   "metadata": {
    "collapsed": false,
    "pycharm": {
     "name": "#%%\n"
    }
   }
  },
  {
   "cell_type": "code",
   "execution_count": 46,
   "outputs": [
    {
     "data": {
      "text/plain": "5"
     },
     "execution_count": 46,
     "metadata": {},
     "output_type": "execute_result"
    }
   ],
   "source": [
    "t = Transaction(timestamp='2022-07-23 15:32:12', sender='nicole', receiver='chris', amount=8000)\n",
    "r.rpush('test', t.json())"
   ],
   "metadata": {
    "collapsed": false,
    "pycharm": {
     "name": "#%%\n"
    }
   }
  },
  {
   "cell_type": "code",
   "execution_count": 47,
   "outputs": [
    {
     "data": {
      "text/plain": "[b'{\"timestamp\": \"2022-07-23 15:32:12\", \"sender\": \"nicole\", \"receiver\": \"chris\", \"amount\": 7000.0}',\n b'{\"timestamp\": \"2022-07-23 15:32:12\", \"sender\": \"nicole\", \"receiver\": \"chris\", \"amount\": 2000.0}',\n b'{\"timestamp\": \"2022-07-23 15:31:12\", \"sender\": \"chris\", \"receiver\": \"nicole\", \"amount\": 5000.0}',\n b'{\"timestamp\": \"2022-07-23 15:32:12\", \"sender\": \"nicole\", \"receiver\": \"chris\", \"amount\": 6000.0}',\n b'{\"timestamp\": \"2022-07-23 15:32:12\", \"sender\": \"nicole\", \"receiver\": \"chris\", \"amount\": 8000.0}']"
     },
     "execution_count": 47,
     "metadata": {},
     "output_type": "execute_result"
    }
   ],
   "source": [
    "r.lrange('test', 0, -1)"
   ],
   "metadata": {
    "collapsed": false,
    "pycharm": {
     "name": "#%%\n"
    }
   }
  },
  {
   "cell_type": "code",
   "execution_count": 48,
   "outputs": [],
   "source": [
    "trans_dict = [b.decode('utf-8') for b in r.lrange('test', 0, -1)]"
   ],
   "metadata": {
    "collapsed": false,
    "pycharm": {
     "name": "#%%\n"
    }
   }
  },
  {
   "cell_type": "code",
   "execution_count": 52,
   "outputs": [
    {
     "data": {
      "text/plain": "['{\"timestamp\": \"2022-07-23 15:32:12\", \"sender\": \"nicole\", \"receiver\": \"chris\", \"amount\": 7000.0}',\n '{\"timestamp\": \"2022-07-23 15:32:12\", \"sender\": \"nicole\", \"receiver\": \"chris\", \"amount\": 2000.0}',\n '{\"timestamp\": \"2022-07-23 15:31:12\", \"sender\": \"chris\", \"receiver\": \"nicole\", \"amount\": 5000.0}',\n '{\"timestamp\": \"2022-07-23 15:32:12\", \"sender\": \"nicole\", \"receiver\": \"chris\", \"amount\": 6000.0}',\n '{\"timestamp\": \"2022-07-23 15:32:12\", \"sender\": \"nicole\", \"receiver\": \"chris\", \"amount\": 8000.0}']"
     },
     "execution_count": 52,
     "metadata": {},
     "output_type": "execute_result"
    }
   ],
   "source": [
    "trans_dict"
   ],
   "metadata": {
    "collapsed": false,
    "pycharm": {
     "name": "#%%\n"
    }
   }
  },
  {
   "cell_type": "code",
   "execution_count": 53,
   "outputs": [],
   "source": [
    "data= []\n",
    "for trans_str in trans_dict:\n",
    "    t_dict = eval(trans_str)\n",
    "    data.append(Transaction(**t_dict))"
   ],
   "metadata": {
    "collapsed": false,
    "pycharm": {
     "name": "#%%\n"
    }
   }
  },
  {
   "cell_type": "code",
   "execution_count": 57,
   "outputs": [
    {
     "data": {
      "text/plain": "Block(index=1, timestamp='2022-07-23 16:12:12', hash='c881ad50088ef574722e9078a40dd8c86dec3eb12a11942819266f513d64f117', previous_hash='0', transactions=[Transaction(timestamp='2022-07-23 15:31:12', sender='chris', receiver='nicole', amount=5000.0), Transaction(timestamp='2022-07-23 15:32:12', sender='chris', receiver='nicole', amount=5000.0), Transaction(timestamp='2022-07-23 15:33:12', sender='nicole', receiver='chris', amount=1000.0), Transaction(timestamp='2022-07-23 15:34:12', sender='nicole', receiver='john', amount=500.0), Transaction(timestamp='2022-07-23 15:35:12', sender='chris', receiver='nicole', amount=5000.0), Transaction(timestamp='2022-07-23 15:36:12', sender='john', receiver='chris', amount=2000.0)], nonce=0)"
     },
     "execution_count": 57,
     "metadata": {},
     "output_type": "execute_result"
    }
   ],
   "source": [
    "block"
   ],
   "metadata": {
    "collapsed": false,
    "pycharm": {
     "name": "#%%\n"
    }
   }
  },
  {
   "cell_type": "code",
   "execution_count": 87,
   "outputs": [
    {
     "ename": "TypeError",
     "evalue": "hget() missing 1 required positional argument: 'key'",
     "output_type": "error",
     "traceback": [
      "\u001B[0;31m---------------------------------------------------------------------------\u001B[0m",
      "\u001B[0;31mTypeError\u001B[0m                                 Traceback (most recent call last)",
      "Input \u001B[0;32mIn [87]\u001B[0m, in \u001B[0;36m<cell line: 1>\u001B[0;34m()\u001B[0m\n\u001B[0;32m----> 1\u001B[0m \u001B[43mr\u001B[49m\u001B[38;5;241;43m.\u001B[39;49m\u001B[43mhget\u001B[49m\u001B[43m(\u001B[49m\u001B[38;5;124;43m'\u001B[39;49m\u001B[38;5;124;43mtest\u001B[39;49m\u001B[38;5;124;43m'\u001B[39;49m\u001B[43m)\u001B[49m\n",
      "\u001B[0;31mTypeError\u001B[0m: hget() missing 1 required positional argument: 'key'"
     ]
    }
   ],
   "source": [
    "r.hget('test')"
   ],
   "metadata": {
    "collapsed": false,
    "pycharm": {
     "name": "#%%\n"
    }
   }
  },
  {
   "cell_type": "code",
   "execution_count": 85,
   "outputs": [
    {
     "data": {
      "text/plain": "3"
     },
     "execution_count": 85,
     "metadata": {},
     "output_type": "execute_result"
    }
   ],
   "source": [
    "r.hset('test', mapping={\"a\": \"1\", \"b\": \"2\", \"c\": \"3\"})"
   ],
   "metadata": {
    "collapsed": false,
    "pycharm": {
     "name": "#%%\n"
    }
   }
  },
  {
   "cell_type": "code",
   "execution_count": 71,
   "outputs": [
    {
     "data": {
      "text/plain": "Block(index=1, timestamp='2022-07-23 16:12:12', hash='c881ad50088ef574722e9078a40dd8c86dec3eb12a11942819266f513d64f117', previous_hash='0', transactions=[Transaction(timestamp='2022-07-23 15:31:12', sender='chris', receiver='nicole', amount=5000.0), Transaction(timestamp='2022-07-23 15:32:12', sender='chris', receiver='nicole', amount=5000.0), Transaction(timestamp='2022-07-23 15:33:12', sender='nicole', receiver='chris', amount=1000.0), Transaction(timestamp='2022-07-23 15:34:12', sender='nicole', receiver='john', amount=500.0), Transaction(timestamp='2022-07-23 15:35:12', sender='chris', receiver='nicole', amount=5000.0), Transaction(timestamp='2022-07-23 15:36:12', sender='john', receiver='chris', amount=2000.0)], nonce=0)"
     },
     "execution_count": 71,
     "metadata": {},
     "output_type": "execute_result"
    }
   ],
   "source": [
    "block"
   ],
   "metadata": {
    "collapsed": false,
    "pycharm": {
     "name": "#%%\n"
    }
   }
  },
  {
   "cell_type": "code",
   "execution_count": 75,
   "outputs": [],
   "source": [
    "data = r.get(1).decode('utf-8')"
   ],
   "metadata": {
    "collapsed": false,
    "pycharm": {
     "name": "#%%\n"
    }
   }
  },
  {
   "cell_type": "code",
   "execution_count": 92,
   "outputs": [
    {
     "data": {
      "text/plain": "1"
     },
     "execution_count": 92,
     "metadata": {},
     "output_type": "execute_result"
    }
   ],
   "source": [
    "r.delete('last_block')"
   ],
   "metadata": {
    "collapsed": false,
    "pycharm": {
     "name": "#%%\n"
    }
   }
  },
  {
   "cell_type": "code",
   "execution_count": 77,
   "outputs": [],
   "source": [
    "d = eval(data)"
   ],
   "metadata": {
    "collapsed": false,
    "pycharm": {
     "name": "#%%\n"
    }
   }
  },
  {
   "cell_type": "code",
   "execution_count": 79,
   "outputs": [
    {
     "data": {
      "text/plain": "[{'timestamp': '2022-07-23 15:31:12',\n  'sender': 'chris',\n  'receiver': 'nicole',\n  'amount': 5000.0},\n {'timestamp': '2022-07-23 15:32:12',\n  'sender': 'chris',\n  'receiver': 'nicole',\n  'amount': 5000.0},\n {'timestamp': '2022-07-23 15:33:12',\n  'sender': 'nicole',\n  'receiver': 'chris',\n  'amount': 1000.0},\n {'timestamp': '2022-07-23 15:34:12',\n  'sender': 'nicole',\n  'receiver': 'john',\n  'amount': 500.0},\n {'timestamp': '2022-07-23 15:35:12',\n  'sender': 'chris',\n  'receiver': 'nicole',\n  'amount': 5000.0},\n {'timestamp': '2022-07-23 15:36:12',\n  'sender': 'john',\n  'receiver': 'chris',\n  'amount': 2000.0}]"
     },
     "execution_count": 79,
     "metadata": {},
     "output_type": "execute_result"
    }
   ],
   "source": [
    "d['transactions']"
   ],
   "metadata": {
    "collapsed": false,
    "pycharm": {
     "name": "#%%\n"
    }
   }
  },
  {
   "cell_type": "code",
   "execution_count": 80,
   "outputs": [
    {
     "data": {
      "text/plain": "{'index': 1,\n 'timestamp': '2022-07-23 16:12:12',\n 'hash': 'c881ad50088ef574722e9078a40dd8c86dec3eb12a11942819266f513d64f117',\n 'previous_hash': '0',\n 'transactions': [{'timestamp': '2022-07-23 15:31:12',\n   'sender': 'chris',\n   'receiver': 'nicole',\n   'amount': 5000.0},\n  {'timestamp': '2022-07-23 15:32:12',\n   'sender': 'chris',\n   'receiver': 'nicole',\n   'amount': 5000.0},\n  {'timestamp': '2022-07-23 15:33:12',\n   'sender': 'nicole',\n   'receiver': 'chris',\n   'amount': 1000.0},\n  {'timestamp': '2022-07-23 15:34:12',\n   'sender': 'nicole',\n   'receiver': 'john',\n   'amount': 500.0},\n  {'timestamp': '2022-07-23 15:35:12',\n   'sender': 'chris',\n   'receiver': 'nicole',\n   'amount': 5000.0},\n  {'timestamp': '2022-07-23 15:36:12',\n   'sender': 'john',\n   'receiver': 'chris',\n   'amount': 2000.0}],\n 'nonce': 0}"
     },
     "execution_count": 80,
     "metadata": {},
     "output_type": "execute_result"
    }
   ],
   "source": [
    "d"
   ],
   "metadata": {
    "collapsed": false,
    "pycharm": {
     "name": "#%%\n"
    }
   }
  },
  {
   "cell_type": "code",
   "execution_count": null,
   "outputs": [],
   "source": [],
   "metadata": {
    "collapsed": false,
    "pycharm": {
     "name": "#%%\n"
    }
   }
  }
 ],
 "metadata": {
  "kernelspec": {
   "display_name": "Python 3",
   "language": "python",
   "name": "python3"
  },
  "language_info": {
   "codemirror_mode": {
    "name": "ipython",
    "version": 2
   },
   "file_extension": ".py",
   "mimetype": "text/x-python",
   "name": "python",
   "nbconvert_exporter": "python",
   "pygments_lexer": "ipython2",
   "version": "2.7.6"
  }
 },
 "nbformat": 4,
 "nbformat_minor": 0
}